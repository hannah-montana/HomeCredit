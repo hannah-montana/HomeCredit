{
 "cells": [
  {
   "cell_type": "code",
   "execution_count": 1,
   "metadata": {},
   "outputs": [],
   "source": [
    "import os\n",
    "import gc\n",
    "import time\n",
    "import numpy as np\n",
    "import pandas as pd\n",
    "from contextlib import contextmanager\n",
    "import multiprocessing as mp\n",
    "from functools import partial\n",
    "from scipy.stats import kurtosis, iqr, skew\n",
    "from xgboost import XGBClassifier\n",
    "from sklearn.linear_model import LinearRegression\n",
    "from sklearn.model_selection import KFold, StratifiedKFold\n",
    "from sklearn.metrics import roc_auc_score\n",
    "import warnings\n",
    "warnings.simplefilter(action='ignore', category=FutureWarning)"
   ]
  },
  {
   "cell_type": "code",
   "execution_count": 2,
   "metadata": {},
   "outputs": [],
   "source": [
    "@contextmanager\n",
    "def timer(name):\n",
    "    t0 = time.time()\n",
    "    yield\n",
    "    print(\"{} - done in {:.0f}s\".format(name, time.time() - t0))"
   ]
  },
  {
   "cell_type": "markdown",
   "metadata": {},
   "source": [
    "# -------------------------------------------XGBoost---------------------------------"
   ]
  },
  {
   "cell_type": "code",
   "execution_count": 7,
   "metadata": {},
   "outputs": [],
   "source": [
    "def xgboost(data):\n",
    "    \n",
    "    df = data[data['TARGET'].notnull()]\n",
    "    y = df[\"TARGET\"].copy()\n",
    "    #y = df[\"TARGET\"].values\n",
    "    test_df = data[data['TARGET'].isnull()]\n",
    "    \n",
    "    print(\"Train/valid shape: {}, test shape: {}\".format(df.shape, test_df.shape))\n",
    "    \n",
    "    del_features = ['TARGET', 'SK_ID_CURR', 'SK_ID_BUREAU', 'SK_ID_PREV', 'index', 'level_0']\n",
    "    predictors = list(filter(lambda v: v not in del_features, df.columns))\n",
    "    \n",
    "    train=df[predictors].values\n",
    "    test=test_df[predictors].values\n",
    "\n",
    "    my_model = XGBClassifier(objective = 'binary:logistic',\n",
    "              booster = 'gbtree',\n",
    "              eval_metric = 'auc',\n",
    "              nthread = 4,\n",
    "              eta = 0.1, # 0.05\n",
    "              max_depth = 8,\n",
    "              min_child_weight = 60,\n",
    "              gamma = 0,\n",
    "              subsample = 0.7, # 0.8715623\n",
    "              colsample_bytree = 0.7,\n",
    "              colsample_bylevel = 0.632,\n",
    "              reg_alpha = 0.041545473,\n",
    "              reg_lambda = 0.0735294,\n",
    "              nrounds = 2000,\n",
    "              seed = 1337)\n",
    "    # Add silent=True to avoid printing out updates with each cycle\n",
    "    my_model.fit(train, y, verbose=False)\n",
    "    \n",
    "    \"\"\"\n",
    "    # plot feature importance\n",
    "    plot_importance(model)\n",
    "    pyplot.show()\"\"\"\n",
    "    \n",
    "    # make predictions\n",
    "    predictions = my_model.predict_proba(test)[:, 1]\n",
    "\n",
    "    # Submission dataframe\n",
    "    submit = test_df[['SK_ID_CURR']]\n",
    "    submit['TARGET'] = predictions\n",
    "\n",
    "    # Save the submission to a csv file\n",
    "    submit.to_csv('XGBoostResult.csv', index = False)\n",
    "   \n"
   ]
  },
  {
   "cell_type": "markdown",
   "metadata": {},
   "source": [
    "# ------------------------------- MAIN-----------------------------------"
   ]
  },
  {
   "cell_type": "code",
   "execution_count": 4,
   "metadata": {},
   "outputs": [],
   "source": [
    "def main():\n",
    "    # choose input data\n",
    "    data= pd.read_csv('../input/clean_data.csv', nrows= None)\n",
    "    \n",
    "    with timer(\"Run Random Forest\"):\n",
    "        feat_importance = xgboost(data)\n",
    "      "
   ]
  },
  {
   "cell_type": "markdown",
   "metadata": {},
   "source": [
    "# -----------------------run main------------------------"
   ]
  },
  {
   "cell_type": "code",
   "execution_count": 8,
   "metadata": {},
   "outputs": [
    {
     "name": "stdout",
     "output_type": "stream",
     "text": [
      "Train/valid shape: (307506, 659), test shape: (48744, 659)\n"
     ]
    },
    {
     "name": "stderr",
     "output_type": "stream",
     "text": [
      "C:\\Users\\chien\\AppData\\Local\\Continuum\\anaconda3\\lib\\site-packages\\ipykernel_launcher.py:44: SettingWithCopyWarning: \n",
      "A value is trying to be set on a copy of a slice from a DataFrame.\n",
      "Try using .loc[row_indexer,col_indexer] = value instead\n",
      "\n",
      "See the caveats in the documentation: http://pandas.pydata.org/pandas-docs/stable/indexing.html#indexing-view-versus-copy\n"
     ]
    },
    {
     "name": "stdout",
     "output_type": "stream",
     "text": [
      "Run Random Forest - done in 506s\n",
      "Pipeline total time - done in 591s\n"
     ]
    }
   ],
   "source": [
    "if __name__ == \"__main__\":\n",
    "    pd.set_option('display.max_rows', 60)\n",
    "    pd.set_option('display.max_columns', 100)\n",
    "    with timer(\"Pipeline total time\"):\n",
    "        main()"
   ]
  }
 ],
 "metadata": {
  "kernelspec": {
   "display_name": "Python 3",
   "language": "python",
   "name": "python3"
  },
  "language_info": {
   "codemirror_mode": {
    "name": "ipython",
    "version": 3
   },
   "file_extension": ".py",
   "mimetype": "text/x-python",
   "name": "python",
   "nbconvert_exporter": "python",
   "pygments_lexer": "ipython3",
   "version": "3.7.1"
  }
 },
 "nbformat": 4,
 "nbformat_minor": 2
}
